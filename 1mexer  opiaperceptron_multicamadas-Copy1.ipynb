{
 "cells": [
  {
   "cell_type": "code",
   "execution_count": 1,
   "metadata": {},
   "outputs": [],
   "source": [
    "import numpy as np\n",
    "import matplotlib.pyplot as plt"
   ]
  },
  {
   "cell_type": "markdown",
   "metadata": {},
   "source": [
    "**Função de ativação e sua derivada**"
   ]
  },
  {
   "cell_type": "code",
   "execution_count": 2,
   "metadata": {},
   "outputs": [],
   "source": [
    "def sigmoid(x):\n",
    "    return 1 / (1 + np.exp(-x))\n",
    "\n",
    "def sigmoid_derivative(x):\n",
    "    return x * (1 - x)"
   ]
  },
  {
   "cell_type": "markdown",
   "metadata": {},
   "source": [
    "**Função de custo**"
   ]
  },
  {
   "cell_type": "code",
   "execution_count": 3,
   "metadata": {},
   "outputs": [],
   "source": [
    "#def MSE(Y_target, Y_pred):\n",
    "#    return np.mean( (Y_target - Y_pred) ** 2 )"
   ]
  },
  {
   "cell_type": "markdown",
   "metadata": {},
   "source": [
    "**Definindo o dataset**"
   ]
  },
  {
   "cell_type": "code",
   "execution_count": 4,
   "metadata": {},
   "outputs": [
    {
     "data": {
      "text/plain": [
       "array([[0, 0],\n",
       "       [0, 1],\n",
       "       [1, 0],\n",
       "       [1, 1]])"
      ]
     },
     "execution_count": 4,
     "metadata": {},
     "output_type": "execute_result"
    }
   ],
   "source": [
    "X = np.array([\n",
    "    [0, 0],\n",
    "    [0, 1],\n",
    "    [1, 0],\n",
    "    [1, 1]\n",
    "])\n",
    "X"
   ]
  },
  {
   "cell_type": "code",
   "execution_count": 5,
   "metadata": {
    "scrolled": true
   },
   "outputs": [
    {
     "data": {
      "text/plain": [
       "array([[0],\n",
       "       [1],\n",
       "       [1],\n",
       "       [0]])"
      ]
     },
     "execution_count": 5,
     "metadata": {},
     "output_type": "execute_result"
    }
   ],
   "source": [
    "Y = np.array([\n",
    "    [0],\n",
    "    [1],\n",
    "    [1],\n",
    "    [0]\n",
    "])\n",
    "Y"
   ]
  },
  {
   "cell_type": "markdown",
   "metadata": {},
   "source": [
    "**Taxa de aprendizagem**"
   ]
  },
  {
   "cell_type": "code",
   "execution_count": 6,
   "metadata": {},
   "outputs": [],
   "source": [
    "N = 0.5"
   ]
  },
  {
   "cell_type": "markdown",
   "metadata": {},
   "source": [
    "**Quantidade de épocas**"
   ]
  },
  {
   "cell_type": "code",
   "execution_count": 7,
   "metadata": {},
   "outputs": [],
   "source": [
    "#10000\n",
    "EPOCHS = 6"
   ]
  },
  {
   "cell_type": "markdown",
   "metadata": {},
   "source": [
    "**Vetor da função de custo**"
   ]
  },
  {
   "cell_type": "code",
   "execution_count": 8,
   "metadata": {},
   "outputs": [],
   "source": [
    "cost = np.array([])"
   ]
  },
  {
   "cell_type": "markdown",
   "metadata": {},
   "source": [
    "**Arquitetura da rede**"
   ]
  },
  {
   "cell_type": "code",
   "execution_count": 9,
   "metadata": {},
   "outputs": [],
   "source": [
    "n_neurons_input_layer = 2\n",
    "n_neurons_hidden_layer_1 = 3\n",
    "#n_neurons_hidden_layer_2 = 3\n",
    "n_neurons_output_layer = 1"
   ]
  },
  {
   "cell_type": "markdown",
   "metadata": {},
   "source": [
    "**Pesos**"
   ]
  },
  {
   "cell_type": "code",
   "execution_count": 10,
   "metadata": {},
   "outputs": [
    {
     "data": {
      "text/plain": [
       "array([[0.65827052, 0.967036  , 0.72796075],\n",
       "       [0.24756941, 0.60534497, 0.73400816]])"
      ]
     },
     "execution_count": 10,
     "metadata": {},
     "output_type": "execute_result"
    }
   ],
   "source": [
    "w_hidden_layer_1 = np.random.rand(n_neurons_input_layer, n_neurons_hidden_layer_1)\n",
    "w_hidden_layer_1"
   ]
  },
  {
   "cell_type": "code",
   "execution_count": 11,
   "metadata": {},
   "outputs": [],
   "source": [
    "#w_hidden_layer_2 = np.random.rand(n_neurons_hidden_layer_1, n_neurons_hidden_layer_2)\n",
    "#w_hidden_layer_2"
   ]
  },
  {
   "cell_type": "code",
   "execution_count": 12,
   "metadata": {
    "scrolled": true
   },
   "outputs": [
    {
     "data": {
      "text/plain": [
       "array([[0.5642273 ],\n",
       "       [0.23646399],\n",
       "       [0.83914093]])"
      ]
     },
     "execution_count": 12,
     "metadata": {},
     "output_type": "execute_result"
    }
   ],
   "source": [
    "w_output_layer = np.random.rand(n_neurons_hidden_layer_1, n_neurons_output_layer)\n",
    "w_output_layer"
   ]
  },
  {
   "cell_type": "markdown",
   "metadata": {},
   "source": [
    "**Vieses**"
   ]
  },
  {
   "cell_type": "code",
   "execution_count": 13,
   "metadata": {},
   "outputs": [
    {
     "data": {
      "text/plain": [
       "array([0., 0., 0.])"
      ]
     },
     "execution_count": 13,
     "metadata": {},
     "output_type": "execute_result"
    }
   ],
   "source": [
    "b_hidden_layer_1 = np.zeros(n_neurons_hidden_layer_1)\n",
    "b_hidden_layer_1"
   ]
  },
  {
   "cell_type": "code",
   "execution_count": 14,
   "metadata": {},
   "outputs": [],
   "source": [
    "#b_hidden_layer_2 = np.zeros(n_neurons_hidden_layer_2)\n",
    "#b_hidden_layer_2"
   ]
  },
  {
   "cell_type": "code",
   "execution_count": 15,
   "metadata": {},
   "outputs": [
    {
     "data": {
      "text/plain": [
       "array([0.])"
      ]
     },
     "execution_count": 15,
     "metadata": {},
     "output_type": "execute_result"
    }
   ],
   "source": [
    "b_output_layer = np.zeros(n_neurons_output_layer)\n",
    "b_output_layer"
   ]
  },
  {
   "cell_type": "markdown",
   "metadata": {},
   "source": [
    "**Treino da rede**"
   ]
  },
  {
   "cell_type": "code",
   "execution_count": 16,
   "metadata": {},
   "outputs": [],
   "source": [
    "def MSE(Y_target, Y_pred):\n",
    "    return np.mean( (Y_target - Y_pred) ** 2 )"
   ]
  },
  {
   "cell_type": "code",
   "execution_count": 16,
   "metadata": {},
   "outputs": [],
   "source": [
    "w_hidden_layer_1_ant = w_hidden_layer_1\n",
    "w_output_layer_ant = w_output_layer\n",
    "aux_1\n",
    "aux_o"
   ]
  },
  {
   "cell_type": "code",
   "execution_count": 17,
   "metadata": {},
   "outputs": [
    {
     "name": "stdout",
     "output_type": "stream",
     "text": [
      "X\n",
      " [[0 0]\n",
      " [0 1]\n",
      " [1 0]\n",
      " [1 1]]\n",
      "w_h\n",
      " [[0.65827052 0.967036   0.72796075]\n",
      " [0.24756941 0.60534497 0.73400816]]\n",
      "\n",
      "[[0.         0.         0.        ]\n",
      " [0.24756941 0.60534497 0.73400816]\n",
      " [0.65827052 0.967036   0.72796075]\n",
      " [0.90583993 1.57238097 1.46196891]]\n",
      "\n",
      "\n",
      "\n",
      "X\n",
      " [[0 0]\n",
      " [0 1]\n",
      " [1 0]\n",
      " [1 1]]\n",
      "w_h\n",
      " [[0.6534989  0.9658856  0.72368411]\n",
      " [0.24337736 0.60446885 0.73011907]]\n",
      "\n",
      "[[0.         0.         0.        ]\n",
      " [0.24337736 0.60446885 0.73011907]\n",
      " [0.6534989  0.9658856  0.72368411]\n",
      " [0.89687626 1.57035445 1.45380318]]\n",
      "\n",
      "\n",
      "\n",
      "X\n",
      " [[0 0]\n",
      " [0 1]\n",
      " [1 0]\n",
      " [1 1]]\n",
      "w_h\n",
      " [[0.6492813  0.96507533 0.71994596]\n",
      " [0.23970259 0.60387735 0.72671651]]\n",
      "\n",
      "[[0.         0.         0.        ]\n",
      " [0.23970259 0.60387735 0.72671651]\n",
      " [0.6492813  0.96507533 0.71994596]\n",
      " [0.8889839  1.56895268 1.44666247]]\n",
      "\n",
      "\n",
      "\n",
      "X\n",
      " [[0 0]\n",
      " [0 1]\n",
      " [1 0]\n",
      " [1 1]]\n",
      "w_h\n",
      " [[0.6456627  0.96457551 0.71680298]\n",
      " [0.23658289 0.60353428 0.72385272]]\n",
      "\n",
      "[[0.         0.         0.        ]\n",
      " [0.23658289 0.60353428 0.72385272]\n",
      " [0.6456627  0.96457551 0.71680298]\n",
      " [0.88224559 1.56810979 1.4406557 ]]\n",
      "\n",
      "\n",
      "\n",
      "X\n",
      " [[0 0]\n",
      " [0 1]\n",
      " [1 0]\n",
      " [1 1]]\n",
      "w_h\n",
      " [[0.64264809 0.96433268 0.71427385]\n",
      " [0.23401942 0.60338277 0.7215462 ]]\n",
      "\n",
      "[[0.         0.         0.        ]\n",
      " [0.23401942 0.60338277 0.7215462 ]\n",
      " [0.64264809 0.96433268 0.71427385]\n",
      " [0.87666751 1.56771545 1.43582005]]\n",
      "\n",
      "\n",
      "\n",
      "X\n",
      " [[0 0]\n",
      " [0 1]\n",
      " [1 0]\n",
      " [1 1]]\n",
      "w_h\n",
      " [[0.64020562 0.96427829 0.71234032]\n",
      " [0.23197971 0.60335394 0.71978228]]\n",
      "\n",
      "[[0.         0.         0.        ]\n",
      " [0.23197971 0.60335394 0.71978228]\n",
      " [0.64020562 0.96427829 0.71234032]\n",
      " [0.87218532 1.56763223 1.4321226 ]]\n",
      "\n",
      "\n",
      "\n"
     ]
    }
   ],
   "source": [
    "for epoch in range(EPOCHS):\n",
    "    activation_hidden_layer_1 = sigmoid( np.dot(X, w_hidden_layer_1)  + b_hidden_layer_1 )    \n",
    "    activation_output_layer = sigmoid(np.dot(activation_hidden_layer_1,w_hidden_layer_1) + b_output_layer)\n",
    "    \n",
    "    \n",
    "    cost = np.append(cost, MSE(Y, activation_output_layer))\n",
    "    \n",
    "    \n",
    "    delta_output_layer = (Y - activation_output_layer) * sigmoid_derivative(activation_output_layer)    \n",
    "    delta_hidden_layer_1 = np.dot(delta_output_layer, w_output_layer.T) * sigmoid_derivative(activation_hidden_layer_1)\n",
    "\n",
    "    \n",
    "    \n",
    "    aux_1 = w_hidden_layer_1\n",
    "    aux_o = w_output_layer\n",
    "\n",
    "    \n",
    "    w_output_layer += N * np.dot(activation_hidden_layer_1.T, delta_output_layer)\n",
    "    w_hidden_layer_1 += N * np.dot(X.T, delta_hidden_layer_1)\n",
    "    \n",
    "    \n",
    "    \n",
    "    w_hidden_layer_1_ant = aux_1\n",
    "    w_output_layer_ant = aux_o\n",
    "    \n",
    "    \n",
    "    print('layer 1\\n{}'.format())\n",
    "    print('layer o\\n{}'.format())\n",
    "    print('ant layer 1\\n{}'.format())\n",
    "    print('ant layer 1\\n{}'.format())"
   ]
  },
  {
   "cell_type": "markdown",
   "metadata": {},
   "source": [
    "**Gráfico da função de custo**"
   ]
  },
  {
   "cell_type": "code",
   "execution_count": 18,
   "metadata": {},
   "outputs": [
    {
     "data": {
      "image/png": "[encoded data removed]",
      "text/plain": [
       "<Figure size 432x288 with 1 Axes>"
      ]
     },
     "metadata": {
      "needs_background": "light"
     },
     "output_type": "display_data"
    }
   ],
   "source": [
    "plt.plot(cost)\n",
    "plt.grid(color = 'g', linestyle=':', linewidth=.1)\n",
    "plt.title('Função de custo da rede')\n",
    "plt.xlabel('Épocas')\n",
    "plt.ylabel('Custo')\n",
    "plt.show()"
   ]
  },
  {
   "cell_type": "code",
   "execution_count": 19,
   "metadata": {},
   "outputs": [
    {
     "name": "stdout",
     "output_type": "stream",
     "text": [
      "oi\n"
     ]
    }
   ],
   "source": [
    "print('oi')"
   ]
  }
 ],
 "metadata": {
  "kernelspec": {
   "display_name": "Python 3",
   "language": "python",
   "name": "python3"
  },
  "language_info": {
   "codemirror_mode": {
    "name": "ipython",
    "version": 3
   },
   "file_extension": ".py",
   "mimetype": "text/x-python",
   "name": "python",
   "nbconvert_exporter": "python",
   "pygments_lexer": "ipython3",
   "version": "3.6.9"
  }
 },
 "nbformat": 4,
 "nbformat_minor": 4
}
